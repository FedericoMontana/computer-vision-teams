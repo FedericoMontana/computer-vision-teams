{
 "cells": [
  {
   "cell_type": "code",
   "execution_count": 7,
   "metadata": {},
   "outputs": [
    {
     "name": "stdout",
     "output_type": "stream",
     "text": [
      "The autoreload extension is already loaded. To reload it, use:\n",
      "  %reload_ext autoreload\n"
     ]
    }
   ],
   "source": [
    "%load_ext autoreload\n",
    "%autoreload 2\n",
    "\n",
    "import time\n",
    "import cv2\n",
    "import numpy as np\n",
    "import imutils\n",
    "import pandas as pd\n",
    "import mediapipe as mp\n",
    "from enum import Enum\n",
    "\n",
    "from src.hands_finder import HandsFinder\n",
    "from src.video_utils import VideoCapture, add_texts, display_warning\n",
    "import src.video_utils as vc_utils"
   ]
  },
  {
   "cell_type": "code",
   "execution_count": 15,
   "metadata": {},
   "outputs": [
    {
     "data": {
      "text/plain": [
       "{'a': ['ok', 0],\n",
       " 'b': ['victory', 0],\n",
       " 'c': ['call', 0],\n",
       " 'd': ['hang_in', 0],\n",
       " 'e': ['one_up', 0],\n",
       " 'f': ['two_up', 0],\n",
       " 'g': ['hand_closed', 0],\n",
       " 'h': ['hand_open', 0],\n",
       " 'i': ['machedici', 0],\n",
       " 'j': ['random', 0]}"
      ]
     },
     "execution_count": 15,
     "metadata": {},
     "output_type": "execute_result"
    }
   ],
   "source": [
    "data_file_out = \"out/gestures.csv\"\n",
    "\n",
    "def get_init_gestures():\n",
    "    a_letter = ord('a')\n",
    "    gestures = ['ok', 'victory', 'call', 'hang_in', 'one_up', 'two_up', 'hand_closed', 'hand_open', 'machedici', 'random']\n",
    "    gestures = {chr(a_letter + x): [gestures[x], 0] for x in range(len(gestures))}\n",
    "    return gestures\n",
    "\n",
    "get_init_gestures()"
   ]
  },
  {
   "cell_type": "markdown",
   "metadata": {},
   "source": [
    "## Record Gestures"
   ]
  },
  {
   "cell_type": "code",
   "execution_count": 18,
   "metadata": {},
   "outputs": [],
   "source": [
    "detector = HandsFinder()\n",
    "vc = VideoCapture(fps=8)\n",
    "\n",
    "gestures = get_init_gestures()\n",
    "results = []\n",
    "\n",
    "\n",
    "class HandStatus(Enum):\n",
    "    K_HAND_ERROR = 1\n",
    "    K_HAND_ADDED = 2\n",
    "    NO_KEY = 3\n",
    "\n",
    "\n",
    "def get_specs(status):\n",
    "\n",
    "    if status == HandStatus.NO_KEY:\n",
    "        return drawer.DrawingSpec(\n",
    "            color=(255, 0, 255), thickness=5, circle_radius=5\n",
    "        )\n",
    "\n",
    "    if status == HandStatus.K_HAND_ERROR:\n",
    "        return drawer.DrawingSpec(\n",
    "            color=(0,0,255), thickness=5, circle_radius=5\n",
    "        )\n",
    "\n",
    "    if status == HandStatus.K_HAND_ADDED:\n",
    "        return drawer.DrawingSpec(\n",
    "            color=(0, 128, 0), thickness=5, circle_radius=5\n",
    "        )\n",
    "\n",
    "    return None\n",
    "\n",
    "while vc.take_next():\n",
    "\n",
    "    img = vc.get_frame()\n",
    "\n",
    "    detector.fit(img)\n",
    "\n",
    "    status = None\n",
    "\n",
    "    if detector.found_hands():\n",
    "\n",
    "        if vc.get_key() is not None:\n",
    "\n",
    "            lm_norms = detector.get_positions_normalized()\n",
    "\n",
    "            for h_k, lm_norm in enumerate(lm_norms):\n",
    "                # mediapipe tries to guess hands parts if they are not in the\n",
    "                # screen, let's not take those\n",
    "                if detector.hand_fits_screen(img, h_k):\n",
    "                    try:\n",
    "                        gestures[vc.get_key()][1] += 1\n",
    "                        results.append([gestures[vc.get_key() ][0], lm_norm])\n",
    "                        status = HandStatus.K_HAND_ADDED\n",
    "                    except KeyError:\n",
    "                        img = display_warning(img)\n",
    "                        status = HandStatus.K_HAND_ERROR\n",
    "\n",
    "                else:\n",
    "                    img = display_warning(img)\n",
    "                    status = HandStatus.K_HAND_ERROR\n",
    "\n",
    "        else:\n",
    "            status = HandStatus.NO_KEY\n",
    "\n",
    "        draw_spec = get_specs(status)\n",
    "\n",
    "        img = detector.transform_connect_lines(img, draw_spec)\n",
    "\n",
    "    img = cv2.flip(img, 1)\n",
    "    text = [f\"[{x[0]}]-{x[1][0]}: {x[1][1]}: \" for x in gestures.items()]\n",
    "    add_texts(img, text)\n",
    "    cv2.imshow(\"Image\", img)\n",
    "\n",
    "\n",
    "vc.finish()\n"
   ]
  },
  {
   "cell_type": "markdown",
   "metadata": {},
   "source": [
    "## Save in file"
   ]
  },
  {
   "cell_type": "code",
   "execution_count": 5,
   "metadata": {},
   "outputs": [],
   "source": [
    "target = [r[0] for r in results]\n",
    "array = [r[1] for r in results]\n",
    "\n",
    "\n",
    "df = pd.DataFrame(array)\n",
    "df = df.round(4)\n",
    "cols = df.columns\n",
    "df['target'] = target\n",
    "\n",
    "# Target should be at the beginning\n",
    "cols = cols.insert(0, 'target')\n",
    "\n",
    "df[cols].to_csv(data_file_out, index=False, header=False, mode='a')"
   ]
  }
 ],
 "metadata": {
  "kernelspec": {
   "display_name": "Python 3.8.13 ('env_tf')",
   "language": "python",
   "name": "python3"
  },
  "language_info": {
   "codemirror_mode": {
    "name": "ipython",
    "version": 3
   },
   "file_extension": ".py",
   "mimetype": "text/x-python",
   "name": "python",
   "nbconvert_exporter": "python",
   "pygments_lexer": "ipython3",
   "version": "3.8.13"
  },
  "orig_nbformat": 4,
  "vscode": {
   "interpreter": {
    "hash": "5de9ea968598f77146e9bcf7403aafc4990d0b8fd820669c1cc9c3a0b1879543"
   }
  }
 },
 "nbformat": 4,
 "nbformat_minor": 2
}
