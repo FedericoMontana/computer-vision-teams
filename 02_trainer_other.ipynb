{
 "cells": [
  {
   "cell_type": "code",
   "execution_count": 58,
   "metadata": {},
   "outputs": [],
   "source": [
    "import numpy as np\n",
    "import pandas as pd\n",
    "import instrumentum\n",
    "\n",
    "import lightgbm as ltb\n",
    "from sklearn.model_selection import RepeatedStratifiedKFold\n",
    "from sklearn.model_selection import train_test_split\n",
    "\n",
    "from instrumentum.model_tuning.wrapper_optuna import OptunaSearchCV\n",
    "from instrumentum.model_tuning._optuna_dispatchers import optuna_param_disp\n",
    "\n",
    "RANDOM_SEED = 42"
   ]
  },
  {
   "cell_type": "code",
   "execution_count": 59,
   "metadata": {},
   "outputs": [],
   "source": [
    "# Specify data paths\n",
    "dataset = 'out/gestures.csv'\n",
    "model_save_path = 'models/classifier.joblib'"
   ]
  },
  {
   "cell_type": "markdown",
   "metadata": {},
   "source": [
    "# Load Dataset"
   ]
  },
  {
   "cell_type": "code",
   "execution_count": 60,
   "metadata": {},
   "outputs": [
    {
     "data": {
      "text/plain": [
       "random         1874\n",
       "hand_closed     673\n",
       "two_up          648\n",
       "hang_in         623\n",
       "hand_open       581\n",
       "victory         530\n",
       "call            525\n",
       "one_up          416\n",
       "machedici       414\n",
       "ok              409\n",
       "Name: 0, dtype: int64"
      ]
     },
     "execution_count": 60,
     "metadata": {},
     "output_type": "execute_result"
    }
   ],
   "source": [
    "data = pd.read_csv(dataset, header=None) \n",
    "\n",
    "y = data.iloc[:, 0]\n",
    "X = data.iloc[: , 1:]\n",
    "\n",
    "y.value_counts()"
   ]
  },
  {
   "cell_type": "code",
   "execution_count": 61,
   "metadata": {},
   "outputs": [
    {
     "data": {
      "text/plain": [
       "{'ok': 0,\n",
       " 'victory': 1,\n",
       " 'call': 2,\n",
       " 'hang_in': 3,\n",
       " 'one_up': 4,\n",
       " 'two_up': 5,\n",
       " 'hand_closed': 6,\n",
       " 'hand_open': 7,\n",
       " 'machedici': 8,\n",
       " 'random': 9}"
      ]
     },
     "execution_count": 61,
     "metadata": {},
     "output_type": "execute_result"
    }
   ],
   "source": [
    "classes = y.unique()\n",
    "classes = {classes[i]: i for i in range(len(classes))}\n",
    "\n",
    "y = y.map(classes)\n",
    "\n",
    "X = X.to_numpy().astype(np.float32)\n",
    "y = y.to_numpy().astype(np.float32)\n",
    "\n",
    "classes"
   ]
  },
  {
   "cell_type": "code",
   "execution_count": 64,
   "metadata": {},
   "outputs": [],
   "source": [
    "X_train, X_test, y_train, y_test = train_test_split(X, y, train_size=0.99, random_state=RANDOM_SEED)\n",
    "# # y_train = y_train.reshape(len(y_train),1)\n",
    "# # y_test = y_test.reshape(len(y_test),1)\n",
    "# classes = len(np.unique(y))"
   ]
  },
  {
   "cell_type": "code",
   "execution_count": 56,
   "metadata": {},
   "outputs": [],
   "source": [
    "import optuna\n",
    "\n",
    "def _lgbmclassifier_default(trial: optuna.trial.Trial):\n",
    "    params = {\n",
    "        # \"verbosity\": -1,\n",
    "        \"boosting_type\": trial.suggest_categorical(\n",
    "            \"boosting_type\", [\"gbdt\", \"dart\", \"goss\"]\n",
    "        ),\n",
    "        \"verbose\": -1,\n",
    "        \"objective\": \"multiclass\",\n",
    "        \"metric\": \"multi_logloss\",\n",
    "        \"num_leaves\": trial.suggest_int(\"num_leaves\", 5, 500, step=5),\n",
    "        \"max_depth\": trial.suggest_int(\"max_depth\", 1, 15),\n",
    "        \"learning_rate\": trial.suggest_float(\n",
    "            \"learning_rate\", 1e-5, 1.0, log=True\n",
    "        ),\n",
    "        \"colsample_bytree\": trial.suggest_uniform(\n",
    "            \"colsample_bytree\", 0.0, 1.0\n",
    "        ),\n",
    "        \"reg_alpha\": trial.suggest_loguniform(\"reg_alpha\", 1e-3, 30),\n",
    "        \"reg_lambda\": trial.suggest_loguniform(\"reg_lambda\", 1e-3, 30),\n",
    "        \"min_split_gain\": trial.suggest_float(\"min_split_gain\", 0, 15),\n",
    "    }\n",
    "\n",
    "    return params"
   ]
  },
  {
   "cell_type": "code",
   "execution_count": 66,
   "metadata": {},
   "outputs": [
    {
     "name": "stderr",
     "output_type": "stream",
     "text": [
      "22-07-30 01:27 | INFO | Trials: 1, Best Score: 0.9792847207354292, Score 0.9792847207354292\n",
      "22-07-30 01:27 | INFO | Trials: 2, Best Score: 0.9983631423121565, Score 0.9983631423121565\n",
      "22-07-30 01:28 | INFO | Trials: 3, Best Score: 0.9983631423121565, Score 0.9976858213725694\n",
      "22-07-30 01:28 | INFO | Trials: 4, Best Score: 0.9987938119603038, Score 0.9987938119603038\n",
      "22-07-30 01:28 | INFO | Trials: 5, Best Score: 0.9987938119603038, Score 0.9967759183653534\n"
     ]
    },
    {
     "data": {
      "text/plain": [
       "OptunaSearchCV(cv=RepeatedStratifiedKFold(n_repeats=2, n_splits=5, random_state=None),\n",
       "               estimator=LGBMClassifier(), n_iter=5, scoring='roc_auc_ovo',\n",
       "               search_space=<function _lgbmclassifier_default at 0x29b75c670>,\n",
       "               verbose=0)"
      ]
     },
     "execution_count": 66,
     "metadata": {},
     "output_type": "execute_result"
    }
   ],
   "source": [
    "estimator = ltb.LGBMClassifier()\n",
    "\n",
    "# search_function = optuna_param_disp[estimator.__class__.__name__]\n",
    "cv = RepeatedStratifiedKFold(n_splits=5, n_repeats=2)\n",
    "\n",
    "os = OptunaSearchCV(\n",
    "    estimator=estimator,\n",
    "    scoring=\"roc_auc_ovo\",\n",
    "    cv=cv,\n",
    "    search_space=_lgbmclassifier_default,\n",
    "    n_iter=5,\n",
    ")\n",
    "os.fit(X_train, y_train)"
   ]
  },
  {
   "cell_type": "code",
   "execution_count": 67,
   "metadata": {},
   "outputs": [
    {
     "name": "stdout",
     "output_type": "stream",
     "text": [
      "[3.91493295e-04 1.68457499e-04 2.71470179e-04 7.86689512e-05\n",
      " 1.34053602e-04 2.84267395e-04 4.19911538e-03 1.73526037e-03\n",
      " 1.89259119e-03 9.90844622e-01]\n",
      "9\n"
     ]
    }
   ],
   "source": [
    "predict_result = os.best_estimator_.predict_proba(np.array([X_test[0]]))\n",
    "print(np.squeeze(predict_result))\n",
    "print(np.argmax(np.squeeze(predict_result)))"
   ]
  },
  {
   "cell_type": "code",
   "execution_count": 68,
   "metadata": {},
   "outputs": [],
   "source": [
    "Y_pred = os.best_estimator_.predict_proba(X_test)\n",
    "y_pred = np.argmax(Y_pred, axis=1)"
   ]
  },
  {
   "cell_type": "code",
   "execution_count": 44,
   "metadata": {},
   "outputs": [
    {
     "data": {
      "image/png": "[encoded data removed]",
      "text/plain": [
       "<Figure size 504x432 with 2 Axes>"
      ]
     },
     "metadata": {
      "needs_background": "light"
     },
     "output_type": "display_data"
    },
    {
     "name": "stdout",
     "output_type": "stream",
     "text": [
      "Classification Report\n",
      "              precision    recall  f1-score   support\n",
      "\n",
      "         0.0       0.99      1.00      1.00       115\n",
      "         1.0       0.99      0.99      0.99       134\n",
      "         2.0       1.00      0.98      0.99       126\n",
      "         3.0       1.00      1.00      1.00       163\n",
      "         4.0       0.97      0.95      0.96        98\n",
      "         5.0       0.98      0.95      0.96       171\n",
      "         6.0       0.99      0.99      0.99       164\n",
      "         7.0       0.98      0.97      0.98       143\n",
      "         8.0       0.97      0.97      0.97       107\n",
      "         9.0       0.97      0.99      0.98       453\n",
      "\n",
      "    accuracy                           0.98      1674\n",
      "   macro avg       0.98      0.98      0.98      1674\n",
      "weighted avg       0.98      0.98      0.98      1674\n",
      "\n"
     ]
    }
   ],
   "source": [
    "import pandas as pd\n",
    "import seaborn as sns\n",
    "import matplotlib.pyplot as plt\n",
    "from sklearn.metrics import confusion_matrix, classification_report\n",
    "\n",
    "def print_confusion_matrix(y_true, y_pred, dict_keys=None, report=True):\n",
    "    labels = sorted(list(set(y_true)))\n",
    "    cmx_data = confusion_matrix(y_true, y_pred, labels=labels)\n",
    "    \n",
    "    if dict_keys:\n",
    "        labels = [dict_keys[x] for x in labels]\n",
    "\n",
    "    df_cmx = pd.DataFrame(cmx_data, index=labels, columns=labels)\n",
    "    fig, ax = plt.subplots(figsize=(7, 6))\n",
    "    sns.heatmap(df_cmx, annot=True, fmt='g' ,square=False)\n",
    "    ax.set_ylim(len(set(y_true)), 0)\n",
    "    plt.show()\n",
    "    \n",
    "    if report:\n",
    "        print('Classification Report')\n",
    "        print(classification_report(y_test, y_pred))\n",
    "\n",
    "\n",
    "print_confusion_matrix(y_test, y_pred, {v: k for k, v in classes.items()})"
   ]
  },
  {
   "cell_type": "markdown",
   "metadata": {},
   "source": [
    "## Save Model"
   ]
  },
  {
   "cell_type": "code",
   "execution_count": 69,
   "metadata": {},
   "outputs": [
    {
     "data": {
      "text/plain": [
       "['models/classifier.joblib']"
      ]
     },
     "execution_count": 69,
     "metadata": {},
     "output_type": "execute_result"
    }
   ],
   "source": [
    "from joblib import dump, load\n",
    "\n",
    "dump(os.best_estimator_, model_save_path) "
   ]
  }
 ],
 "metadata": {
  "kernelspec": {
   "display_name": "Python 3.8.13 ('env_tf')",
   "language": "python",
   "name": "python3"
  },
  "language_info": {
   "codemirror_mode": {
    "name": "ipython",
    "version": 3
   },
   "file_extension": ".py",
   "mimetype": "text/x-python",
   "name": "python",
   "nbconvert_exporter": "python",
   "pygments_lexer": "ipython3",
   "version": "3.8.13"
  },
  "orig_nbformat": 4,
  "vscode": {
   "interpreter": {
    "hash": "5de9ea968598f77146e9bcf7403aafc4990d0b8fd820669c1cc9c3a0b1879543"
   }
  }
 },
 "nbformat": 4,
 "nbformat_minor": 2
}
