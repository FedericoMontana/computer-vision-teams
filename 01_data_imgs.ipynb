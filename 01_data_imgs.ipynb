{
 "cells": [
  {
   "cell_type": "code",
   "execution_count": 8,
   "metadata": {},
   "outputs": [],
   "source": [
    "import cv2\n",
    "import mediapipe as mp\n",
    "import os\n",
    "import json\n",
    "import pandas as pd\n",
    "from matplotlib import pyplot as plt\n",
    "import numpy as np\n"
   ]
  },
  {
   "cell_type": "markdown",
   "metadata": {},
   "source": [
    "Get Anotations"
   ]
  },
  {
   "cell_type": "code",
   "execution_count": 2,
   "metadata": {},
   "outputs": [],
   "source": [
    "PATH_HaGRID = \"public_img\"\n",
    "\n",
    "# there must be below path:\n",
    "# - A folder called ann_subsample with json for each type of class\n",
    "# - A folder called subsample, with a folder with the name of each class, \n",
    "#   each one with images representing the class"
   ]
  },
  {
   "cell_type": "code",
   "execution_count": 3,
   "metadata": {},
   "outputs": [
    {
     "data": {
      "text/plain": [
       "mute               100\n",
       "ok                 100\n",
       "two_up             100\n",
       "fist               100\n",
       "palm               100\n",
       "stop               100\n",
       "four               100\n",
       "two_up_inverted    100\n",
       "peace              100\n",
       "stop_inverted      100\n",
       "call               100\n",
       "like               100\n",
       "one                100\n",
       "rock               100\n",
       "three              100\n",
       "three2             100\n",
       "peace_inverted     100\n",
       "dislike            100\n",
       "Name: target, dtype: int64"
      ]
     },
     "execution_count": 3,
     "metadata": {},
     "output_type": "execute_result"
    }
   ],
   "source": [
    "def get_annotations(file):\n",
    "    json_annotations = json.load(open(file))\n",
    "    json_annotations = [\n",
    "        dict(ann, **{\"name\": f\"{name}.jpg\"})\n",
    "        for name, ann in zip(json_annotations, json_annotations.values())\n",
    "    ]\n",
    "    annotations = pd.DataFrame(json_annotations)\n",
    "\n",
    "    labels = list(annotations[\"labels\"])\n",
    "    bboxes = list(annotations[\"bboxes\"])\n",
    "    gestures = []\n",
    "\n",
    "    for x in range(len(labels)):\n",
    "        for l_b in zip(labels[x], bboxes[x]):\n",
    "            if l_b[0] != \"no_gesture\":\n",
    "                gestures.append(l_b)\n",
    "\n",
    "    annotations[\"target\"] = [g[0] for g in gestures]\n",
    "    annotations[\"target_bbox\"] = [g[1] for g in gestures]\n",
    "\n",
    "    return annotations\n",
    "\n",
    "\n",
    "def absFilePath(directory):\n",
    "    for dirpath, _, filenames in os.walk(directory):\n",
    "        for f in filenames:\n",
    "            yield os.path.abspath(os.path.join(dirpath, f))\n",
    "\n",
    "\n",
    "annotations = pd.concat(\n",
    "    [\n",
    "        get_annotations(file)\n",
    "        for file in absFilePath(os.path.join(PATH_HaGRID, \"ann_subsample\"))\n",
    "    ],\n",
    "    ignore_index=True,\n",
    ")\n",
    "\n",
    "annotations.set_index('name', inplace=True)\n",
    "annotations['target'].value_counts()"
   ]
  },
  {
   "cell_type": "markdown",
   "metadata": {},
   "source": [
    "Let's go through each image and process their hands"
   ]
  },
  {
   "cell_type": "code",
   "execution_count": 104,
   "metadata": {},
   "outputs": [
    {
     "name": "stdout",
     "output_type": "stream",
     "text": [
      "Not found file:  000484ab-5fd0-49b8-9253-23a22b71d7b1-checkpoint.jpg\n"
     ]
    }
   ],
   "source": [
    "from src.handDetector import HandDetector\n",
    "import cv2\n",
    "\n",
    "\n",
    "def get_croped(img, bbox, box_scale=1):\n",
    "    h, w, c = img.shape\n",
    "\n",
    "    x1 = bbox[0] * w\n",
    "    x2 = x1 + bbox[2] * w\n",
    "    y1 = bbox[1] * h\n",
    "    y2 = y1 + bbox[3] * h\n",
    "\n",
    "    x1, y1, x2, y2 = list(map(int, (x1, y1, x2, y2)))\n",
    "    crop_image = img[y1:y2, x1:x2]\n",
    "\n",
    "    return crop_image\n",
    "\n",
    "\n",
    "detector = HandDetector()\n",
    "results = []\n",
    "\n",
    "for path, _, files in os.walk(os.path.join(PATH_HaGRID, \"subsample\")):\n",
    "    for e, name in enumerate(files):\n",
    "        # if e > 5:\n",
    "        #     break\n",
    "        if name.endswith(\".jpg\"):\n",
    "            try:\n",
    "                ann = annotations.loc[name]\n",
    "                img = cv2.imread(os.path.join(path, name))\n",
    "\n",
    "                img = get_croped(img, ann[\"target_bbox\"])\n",
    "                detector.fit(img)\n",
    "                if detector.found_hands():\n",
    "                    # There should be always 1 entry only (we are cropping)\n",
    "                    # only one hand!\n",
    "                    results.append(\n",
    "                        [ann[\"target\"], detector.get_positions_normalized()[0]]\n",
    "                    )\n",
    "                # img = detector.transform_connect_lines(img)\n",
    "\n",
    "                # plt.imshow(img)\n",
    "                # plt.show()\n",
    "            except KeyError:\n",
    "                print(\"Not found file: \", name)\n"
   ]
  },
  {
   "cell_type": "markdown",
   "metadata": {},
   "source": [
    "Save the file"
   ]
  },
  {
   "cell_type": "code",
   "execution_count": 105,
   "metadata": {},
   "outputs": [],
   "source": [
    "target = [r[0] for r in results]\n",
    "array = [r[1] for r in results]\n",
    "\n",
    "\n",
    "df = pd.DataFrame(array)\n",
    "df = df.round(4)\n",
    "cols = df.columns\n",
    "df['target'] = target\n",
    "\n",
    "# Target should be at the beginning\n",
    "cols = cols.insert(0, 'target')\n",
    "\n",
    "df[cols].to_csv(\"out/lala.csv\", index=False, header=False, mode='a')"
   ]
  }
 ],
 "metadata": {
  "kernelspec": {
   "display_name": "Python 3.8.13 ('env_tf')",
   "language": "python",
   "name": "python3"
  },
  "language_info": {
   "codemirror_mode": {
    "name": "ipython",
    "version": 3
   },
   "file_extension": ".py",
   "mimetype": "text/x-python",
   "name": "python",
   "nbconvert_exporter": "python",
   "pygments_lexer": "ipython3",
   "version": "3.8.13"
  },
  "orig_nbformat": 4,
  "vscode": {
   "interpreter": {
    "hash": "5de9ea968598f77146e9bcf7403aafc4990d0b8fd820669c1cc9c3a0b1879543"
   }
  }
 },
 "nbformat": 4,
 "nbformat_minor": 2
}
