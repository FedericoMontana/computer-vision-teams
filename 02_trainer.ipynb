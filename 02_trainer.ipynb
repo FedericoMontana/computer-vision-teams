{
 "cells": [
  {
   "cell_type": "code",
   "execution_count": 1,
   "metadata": {},
   "outputs": [
    {
     "name": "stdout",
     "output_type": "stream",
     "text": [
      "Init Plugin\n",
      "Init Graph Optimizer\n",
      "Init Kernel\n"
     ]
    }
   ],
   "source": [
    "import numpy as np\n",
    "import pandas as pd\n",
    "import tensorflow as tf\n",
    "from keras.utils.np_utils import to_categorical\n",
    "from sklearn.model_selection import train_test_split\n",
    "\n",
    "RANDOM_SEED = 42"
   ]
  },
  {
   "cell_type": "code",
   "execution_count": 3,
   "metadata": {},
   "outputs": [],
   "source": [
    "# Specify data paths\n",
    "dataset = 'out/lala.csv'\n",
    "model_save_path = 'models/classifier.hdf5'\n",
    "tflite_save_path = 'models/lite.hdf5'"
   ]
  },
  {
   "cell_type": "markdown",
   "metadata": {},
   "source": [
    "# Load Dataset"
   ]
  },
  {
   "cell_type": "code",
   "execution_count": 94,
   "metadata": {},
   "outputs": [
    {
     "data": {
      "text/plain": [
       "three              100\n",
       "two_up_inverted    100\n",
       "palm               100\n",
       "fist               100\n",
       "peace_inverted     100\n",
       "one                100\n",
       "three2             100\n",
       "four               100\n",
       "stop               100\n",
       "two_up             100\n",
       "ok                 100\n",
       "dislike             99\n",
       "peace               98\n",
       "mute                97\n",
       "stop_inverted       97\n",
       "rock                96\n",
       "like                94\n",
       "call                56\n",
       "Name: 0, dtype: int64"
      ]
     },
     "execution_count": 94,
     "metadata": {},
     "output_type": "execute_result"
    }
   ],
   "source": [
    "data = pd.read_csv(dataset, header=None) \n",
    "\n",
    "y = data.iloc[:, 0]\n",
    "X = data.iloc[: , 1:]\n",
    "\n",
    "y.value_counts()"
   ]
  },
  {
   "cell_type": "code",
   "execution_count": 95,
   "metadata": {},
   "outputs": [],
   "source": [
    "classes = y.unique()\n",
    "classes = {classes[i]: i for i in range(len(classes))}\n",
    "\n",
    "y = y.map(classes)\n",
    "\n",
    "X = X.to_numpy().astype(np.float32)\n",
    "y = y.to_numpy().astype(np.float32)"
   ]
  },
  {
   "cell_type": "code",
   "execution_count": 96,
   "metadata": {},
   "outputs": [],
   "source": [
    "X_train, X_test, y_train, y_test = train_test_split(X, y, train_size=0.75, random_state=RANDOM_SEED)\n",
    "\n",
    "# # y_train = y_train.reshape(len(y_train),1)\n",
    "# # y_test = y_test.reshape(len(y_test),1)\n",
    "# classes = len(np.unique(y))"
   ]
  },
  {
   "cell_type": "code",
   "execution_count": 97,
   "metadata": {},
   "outputs": [
    {
     "ename": "AttributeError",
     "evalue": "'numpy.ndarray' object has no attribute 'nunique'",
     "output_type": "error",
     "traceback": [
      "\u001b[0;31m---------------------------------------------------------------------------\u001b[0m",
      "\u001b[0;31mAttributeError\u001b[0m                            Traceback (most recent call last)",
      "\u001b[1;32m/Users/federico/codes/tf/02_trainer.ipynb Cell 7\u001b[0m in \u001b[0;36m<cell line: 2>\u001b[0;34m()\u001b[0m\n\u001b[1;32m      <a href='vscode-notebook-cell:/Users/federico/codes/tf/02_trainer.ipynb#ch0000003?line=0'>1</a>\u001b[0m n_input \u001b[39m=\u001b[39m X_train\u001b[39m.\u001b[39mshape[\u001b[39m1\u001b[39m]\n\u001b[0;32m----> <a href='vscode-notebook-cell:/Users/federico/codes/tf/02_trainer.ipynb#ch0000003?line=1'>2</a>\u001b[0m n_output \u001b[39m=\u001b[39m y\u001b[39m.\u001b[39;49mnunique()\n\u001b[1;32m      <a href='vscode-notebook-cell:/Users/federico/codes/tf/02_trainer.ipynb#ch0000003?line=3'>4</a>\u001b[0m model \u001b[39m=\u001b[39m tf\u001b[39m.\u001b[39mkeras\u001b[39m.\u001b[39mmodels\u001b[39m.\u001b[39mSequential([\n\u001b[1;32m      <a href='vscode-notebook-cell:/Users/federico/codes/tf/02_trainer.ipynb#ch0000003?line=4'>5</a>\u001b[0m     tf\u001b[39m.\u001b[39mkeras\u001b[39m.\u001b[39mlayers\u001b[39m.\u001b[39mInputLayer((n_input, )),\n\u001b[1;32m      <a href='vscode-notebook-cell:/Users/federico/codes/tf/02_trainer.ipynb#ch0000003?line=5'>6</a>\u001b[0m     tf\u001b[39m.\u001b[39mkeras\u001b[39m.\u001b[39mlayers\u001b[39m.\u001b[39mDropout(\u001b[39m0.1\u001b[39m),\n\u001b[0;32m   (...)\u001b[0m\n\u001b[1;32m     <a href='vscode-notebook-cell:/Users/federico/codes/tf/02_trainer.ipynb#ch0000003?line=11'>12</a>\u001b[0m     tf\u001b[39m.\u001b[39mkeras\u001b[39m.\u001b[39mlayers\u001b[39m.\u001b[39mDense(n_output, activation\u001b[39m=\u001b[39m\u001b[39m'\u001b[39m\u001b[39msoftmax\u001b[39m\u001b[39m'\u001b[39m)\n\u001b[1;32m     <a href='vscode-notebook-cell:/Users/federico/codes/tf/02_trainer.ipynb#ch0000003?line=12'>13</a>\u001b[0m ])\n",
      "\u001b[0;31mAttributeError\u001b[0m: 'numpy.ndarray' object has no attribute 'nunique'"
     ]
    }
   ],
   "source": [
    "n_input = X_train.shape[1]\n",
    "n_output = y.nunique()\n",
    "\n",
    "model = tf.keras.models.Sequential([\n",
    "    tf.keras.layers.InputLayer((n_input, )),\n",
    "    tf.keras.layers.Dropout(0.1),\n",
    "    tf.keras.layers.Dense(32, activation='relu'),\n",
    "    tf.keras.layers.Dropout(0.1),\n",
    "    tf.keras.layers.Dense(32, activation='relu'),\n",
    "    tf.keras.layers.Dropout(0.1),\n",
    "    tf.keras.layers.Dense(16, activation='relu'),\n",
    "    tf.keras.layers.Dense(n_output, activation='softmax')\n",
    "])"
   ]
  },
  {
   "cell_type": "code",
   "execution_count": 98,
   "metadata": {},
   "outputs": [
    {
     "name": "stdout",
     "output_type": "stream",
     "text": [
      "Model: \"sequential\"\n",
      "_________________________________________________________________\n",
      "Layer (type)                 Output Shape              Param #   \n",
      "=================================================================\n",
      "dropout_3 (Dropout)          (None, 42)                0         \n",
      "_________________________________________________________________\n",
      "dense_4 (Dense)              (None, 32)                1376      \n",
      "_________________________________________________________________\n",
      "dropout_4 (Dropout)          (None, 32)                0         \n",
      "_________________________________________________________________\n",
      "dense_5 (Dense)              (None, 32)                1056      \n",
      "_________________________________________________________________\n",
      "dropout_5 (Dropout)          (None, 32)                0         \n",
      "_________________________________________________________________\n",
      "dense_6 (Dense)              (None, 16)                528       \n",
      "_________________________________________________________________\n",
      "dense_7 (Dense)              (None, 18)                306       \n",
      "=================================================================\n",
      "Total params: 3,266\n",
      "Trainable params: 3,266\n",
      "Non-trainable params: 0\n",
      "_________________________________________________________________\n"
     ]
    }
   ],
   "source": [
    "# Model checkpoint callback\n",
    "cp_callback = tf.keras.callbacks.ModelCheckpoint(\n",
    "    model_save_path, verbose=1, save_weights_only=False, save_best_only=True)\n",
    "# Callback for early stopping\n",
    "es_callback = tf.keras.callbacks.EarlyStopping(patience=50, verbose=1)\n",
    "\n",
    "# Model compilation\n",
    "model.compile(\n",
    "    optimizer='adam',\n",
    "    loss='sparse_categorical_crossentropy',\n",
    "    metrics=['accuracy']\n",
    ")\n",
    "\n",
    "model.summary() "
   ]
  },
  {
   "cell_type": "code",
   "execution_count": 99,
   "metadata": {},
   "outputs": [
    {
     "name": "stdout",
     "output_type": "stream",
     "text": [
      "Epoch 1/1000\n"
     ]
    },
    {
     "name": "stderr",
     "output_type": "stream",
     "text": [
      "2022-07-21 22:15:30.559731: I tensorflow/core/grappler/optimizers/custom_graph_optimizer_registry.cc:112] Plugin optimizer for device_type GPU is enabled.\n"
     ]
    },
    {
     "name": "stdout",
     "output_type": "stream",
     "text": [
      "21/21 [==============================] - 1s 24ms/step - loss: 1.7348 - accuracy: 0.5983 - val_loss: 0.4632 - val_accuracy: 0.8759\n",
      "\n",
      "Epoch 00001: val_loss improved from inf to 0.46316, saving model to models/classifier.hdf5\n",
      "Epoch 2/1000\n",
      " 1/21 [>.............................] - ETA: 0s - loss: 1.6151 - accuracy: 0.5625"
     ]
    },
    {
     "name": "stderr",
     "output_type": "stream",
     "text": [
      "2022-07-21 22:15:31.159104: I tensorflow/core/grappler/optimizers/custom_graph_optimizer_registry.cc:112] Plugin optimizer for device_type GPU is enabled.\n"
     ]
    },
    {
     "name": "stdout",
     "output_type": "stream",
     "text": [
      "21/21 [==============================] - 1s 25ms/step - loss: 1.4997 - accuracy: 0.5975 - val_loss: 0.5289 - val_accuracy: 0.8529\n",
      "\n",
      "Epoch 00002: val_loss did not improve from 0.46316\n",
      "Epoch 3/1000\n",
      "21/21 [==============================] - 0s 15ms/step - loss: 1.2662 - accuracy: 0.6298 - val_loss: 0.5732 - val_accuracy: 0.8230\n",
      "\n",
      "Epoch 00003: val_loss did not improve from 0.46316\n",
      "Epoch 4/1000\n",
      "21/21 [==============================] - 0s 23ms/step - loss: 1.1904 - accuracy: 0.6214 - val_loss: 0.5533 - val_accuracy: 0.8368\n",
      "\n",
      "Epoch 00004: val_loss did not improve from 0.46316\n",
      "Epoch 5/1000\n",
      "21/21 [==============================] - 0s 15ms/step - loss: 1.1133 - accuracy: 0.6183 - val_loss: 0.5604 - val_accuracy: 0.8621\n",
      "\n",
      "Epoch 00005: val_loss did not improve from 0.46316\n",
      "Epoch 6/1000\n",
      "21/21 [==============================] - 0s 17ms/step - loss: 1.1642 - accuracy: 0.6260 - val_loss: 0.5603 - val_accuracy: 0.8598\n",
      "\n",
      "Epoch 00006: val_loss did not improve from 0.46316\n",
      "Epoch 7/1000\n",
      "21/21 [==============================] - 0s 21ms/step - loss: 1.1250 - accuracy: 0.6052 - val_loss: 0.5650 - val_accuracy: 0.8506\n",
      "\n",
      "Epoch 00007: val_loss did not improve from 0.46316\n",
      "Epoch 8/1000\n",
      "21/21 [==============================] - 0s 16ms/step - loss: 1.0873 - accuracy: 0.6352 - val_loss: 0.5805 - val_accuracy: 0.8207\n",
      "\n",
      "Epoch 00008: val_loss did not improve from 0.46316\n",
      "Epoch 9/1000\n",
      "21/21 [==============================] - 0s 13ms/step - loss: 1.0626 - accuracy: 0.6252 - val_loss: 0.5773 - val_accuracy: 0.8414\n",
      "\n",
      "Epoch 00009: val_loss did not improve from 0.46316\n",
      "Epoch 10/1000\n",
      "21/21 [==============================] - 0s 13ms/step - loss: 1.0992 - accuracy: 0.6467 - val_loss: 0.5582 - val_accuracy: 0.8621\n",
      "\n",
      "Epoch 00010: val_loss did not improve from 0.46316\n",
      "Epoch 11/1000\n",
      "21/21 [==============================] - 0s 17ms/step - loss: 0.9727 - accuracy: 0.6559 - val_loss: 0.5544 - val_accuracy: 0.8552\n",
      "\n",
      "Epoch 00011: val_loss did not improve from 0.46316\n",
      "Epoch 12/1000\n",
      "21/21 [==============================] - 1s 33ms/step - loss: 0.9501 - accuracy: 0.6728 - val_loss: 0.5402 - val_accuracy: 0.8690\n",
      "\n",
      "Epoch 00012: val_loss did not improve from 0.46316\n",
      "Epoch 13/1000\n",
      "21/21 [==============================] - 0s 23ms/step - loss: 1.0104 - accuracy: 0.6575 - val_loss: 0.5801 - val_accuracy: 0.8299\n",
      "\n",
      "Epoch 00013: val_loss did not improve from 0.46316\n",
      "Epoch 14/1000\n",
      "21/21 [==============================] - 0s 20ms/step - loss: 0.9078 - accuracy: 0.6713 - val_loss: 0.5604 - val_accuracy: 0.8644\n",
      "\n",
      "Epoch 00014: val_loss did not improve from 0.46316\n",
      "Epoch 15/1000\n",
      "21/21 [==============================] - 0s 22ms/step - loss: 0.9584 - accuracy: 0.6705 - val_loss: 0.5630 - val_accuracy: 0.8414\n",
      "\n",
      "Epoch 00015: val_loss did not improve from 0.46316\n",
      "Epoch 16/1000\n",
      "21/21 [==============================] - 0s 16ms/step - loss: 0.9398 - accuracy: 0.6790 - val_loss: 0.5508 - val_accuracy: 0.8667\n",
      "\n",
      "Epoch 00016: val_loss did not improve from 0.46316\n",
      "Epoch 17/1000\n",
      "21/21 [==============================] - 1s 27ms/step - loss: 0.9311 - accuracy: 0.6690 - val_loss: 0.5544 - val_accuracy: 0.8621\n",
      "\n",
      "Epoch 00017: val_loss did not improve from 0.46316\n",
      "Epoch 18/1000\n",
      "21/21 [==============================] - 0s 15ms/step - loss: 0.9013 - accuracy: 0.6859 - val_loss: 0.5486 - val_accuracy: 0.8644\n",
      "\n",
      "Epoch 00018: val_loss did not improve from 0.46316\n",
      "Epoch 19/1000\n",
      "21/21 [==============================] - 0s 13ms/step - loss: 0.8593 - accuracy: 0.7151 - val_loss: 0.5335 - val_accuracy: 0.8759\n",
      "\n",
      "Epoch 00019: val_loss did not improve from 0.46316\n",
      "Epoch 20/1000\n",
      "21/21 [==============================] - 0s 21ms/step - loss: 0.8860 - accuracy: 0.6912 - val_loss: 0.5549 - val_accuracy: 0.8276\n",
      "\n",
      "Epoch 00020: val_loss did not improve from 0.46316\n",
      "Epoch 21/1000\n",
      "21/21 [==============================] - 1s 32ms/step - loss: 0.8546 - accuracy: 0.7012 - val_loss: 0.5393 - val_accuracy: 0.8552\n",
      "\n",
      "Epoch 00021: val_loss did not improve from 0.46316\n",
      "Epoch 22/1000\n",
      "21/21 [==============================] - 1s 24ms/step - loss: 0.8601 - accuracy: 0.6874 - val_loss: 0.5351 - val_accuracy: 0.8690\n",
      "\n",
      "Epoch 00022: val_loss did not improve from 0.46316\n",
      "Epoch 23/1000\n",
      "21/21 [==============================] - 0s 15ms/step - loss: 0.8279 - accuracy: 0.6974 - val_loss: 0.5414 - val_accuracy: 0.8667\n",
      "\n",
      "Epoch 00023: val_loss did not improve from 0.46316\n",
      "Epoch 24/1000\n",
      "21/21 [==============================] - 0s 13ms/step - loss: 0.8050 - accuracy: 0.7104 - val_loss: 0.5171 - val_accuracy: 0.8690\n",
      "\n",
      "Epoch 00024: val_loss did not improve from 0.46316\n",
      "Epoch 25/1000\n",
      "21/21 [==============================] - 0s 13ms/step - loss: 0.8121 - accuracy: 0.7135 - val_loss: 0.5132 - val_accuracy: 0.8805\n",
      "\n",
      "Epoch 00025: val_loss did not improve from 0.46316\n",
      "Epoch 26/1000\n",
      "21/21 [==============================] - 0s 13ms/step - loss: 0.7938 - accuracy: 0.7097 - val_loss: 0.5036 - val_accuracy: 0.8828\n",
      "\n",
      "Epoch 00026: val_loss did not improve from 0.46316\n",
      "Epoch 27/1000\n",
      "21/21 [==============================] - 0s 13ms/step - loss: 0.7957 - accuracy: 0.7066 - val_loss: 0.5193 - val_accuracy: 0.8874\n",
      "\n",
      "Epoch 00027: val_loss did not improve from 0.46316\n",
      "Epoch 28/1000\n",
      "21/21 [==============================] - 0s 15ms/step - loss: 0.8123 - accuracy: 0.7089 - val_loss: 0.5231 - val_accuracy: 0.8828\n",
      "\n",
      "Epoch 00028: val_loss did not improve from 0.46316\n",
      "Epoch 29/1000\n",
      "21/21 [==============================] - 0s 18ms/step - loss: 0.7795 - accuracy: 0.7104 - val_loss: 0.5156 - val_accuracy: 0.8759\n",
      "\n",
      "Epoch 00029: val_loss did not improve from 0.46316\n",
      "Epoch 30/1000\n",
      "21/21 [==============================] - 0s 13ms/step - loss: 0.8112 - accuracy: 0.7181 - val_loss: 0.5241 - val_accuracy: 0.8782\n",
      "\n",
      "Epoch 00030: val_loss did not improve from 0.46316\n",
      "Epoch 31/1000\n",
      "21/21 [==============================] - 0s 12ms/step - loss: 0.8092 - accuracy: 0.7081 - val_loss: 0.5091 - val_accuracy: 0.8851\n",
      "\n",
      "Epoch 00031: val_loss did not improve from 0.46316\n",
      "Epoch 32/1000\n",
      "21/21 [==============================] - 0s 13ms/step - loss: 0.7838 - accuracy: 0.7181 - val_loss: 0.5065 - val_accuracy: 0.8805\n",
      "\n",
      "Epoch 00032: val_loss did not improve from 0.46316\n",
      "Epoch 33/1000\n",
      "21/21 [==============================] - 0s 13ms/step - loss: 0.8119 - accuracy: 0.7112 - val_loss: 0.5222 - val_accuracy: 0.8828\n",
      "\n",
      "Epoch 00033: val_loss did not improve from 0.46316\n",
      "Epoch 34/1000\n",
      "21/21 [==============================] - 0s 17ms/step - loss: 0.7207 - accuracy: 0.7389 - val_loss: 0.5184 - val_accuracy: 0.8851\n",
      "\n",
      "Epoch 00034: val_loss did not improve from 0.46316\n",
      "Epoch 35/1000\n",
      "21/21 [==============================] - 0s 17ms/step - loss: 0.7781 - accuracy: 0.7289 - val_loss: 0.5123 - val_accuracy: 0.8805\n",
      "\n",
      "Epoch 00035: val_loss did not improve from 0.46316\n",
      "Epoch 36/1000\n",
      "21/21 [==============================] - 0s 13ms/step - loss: 0.7684 - accuracy: 0.7220 - val_loss: 0.5054 - val_accuracy: 0.8989\n",
      "\n",
      "Epoch 00036: val_loss did not improve from 0.46316\n",
      "Epoch 37/1000\n",
      "21/21 [==============================] - 0s 12ms/step - loss: 0.7599 - accuracy: 0.7266 - val_loss: 0.5096 - val_accuracy: 0.8851\n",
      "\n",
      "Epoch 00037: val_loss did not improve from 0.46316\n",
      "Epoch 38/1000\n",
      "21/21 [==============================] - 0s 13ms/step - loss: 0.7336 - accuracy: 0.7419 - val_loss: 0.4994 - val_accuracy: 0.8989\n",
      "\n",
      "Epoch 00038: val_loss did not improve from 0.46316\n",
      "Epoch 39/1000\n",
      "21/21 [==============================] - 0s 13ms/step - loss: 0.7315 - accuracy: 0.7358 - val_loss: 0.5028 - val_accuracy: 0.8828\n",
      "\n",
      "Epoch 00039: val_loss did not improve from 0.46316\n",
      "Epoch 40/1000\n",
      "21/21 [==============================] - 0s 21ms/step - loss: 0.7417 - accuracy: 0.7212 - val_loss: 0.5185 - val_accuracy: 0.8736\n",
      "\n",
      "Epoch 00040: val_loss did not improve from 0.46316\n",
      "Epoch 41/1000\n",
      "21/21 [==============================] - 0s 16ms/step - loss: 0.7558 - accuracy: 0.7320 - val_loss: 0.5110 - val_accuracy: 0.8897\n",
      "\n",
      "Epoch 00041: val_loss did not improve from 0.46316\n",
      "Epoch 42/1000\n",
      "21/21 [==============================] - 0s 12ms/step - loss: 0.7801 - accuracy: 0.7127 - val_loss: 0.5027 - val_accuracy: 0.8874\n",
      "\n",
      "Epoch 00042: val_loss did not improve from 0.46316\n",
      "Epoch 43/1000\n",
      "21/21 [==============================] - 0s 14ms/step - loss: 0.7215 - accuracy: 0.7373 - val_loss: 0.5262 - val_accuracy: 0.8529\n",
      "\n",
      "Epoch 00043: val_loss did not improve from 0.46316\n",
      "Epoch 44/1000\n",
      "21/21 [==============================] - 0s 20ms/step - loss: 0.7002 - accuracy: 0.7473 - val_loss: 0.4896 - val_accuracy: 0.9080\n",
      "\n",
      "Epoch 00044: val_loss did not improve from 0.46316\n",
      "Epoch 45/1000\n",
      "21/21 [==============================] - 0s 18ms/step - loss: 0.7300 - accuracy: 0.7289 - val_loss: 0.5139 - val_accuracy: 0.8782\n",
      "\n",
      "Epoch 00045: val_loss did not improve from 0.46316\n",
      "Epoch 46/1000\n",
      "21/21 [==============================] - 1s 25ms/step - loss: 0.7088 - accuracy: 0.7458 - val_loss: 0.4963 - val_accuracy: 0.8782\n",
      "\n",
      "Epoch 00046: val_loss did not improve from 0.46316\n",
      "Epoch 47/1000\n",
      "21/21 [==============================] - 0s 13ms/step - loss: 0.7232 - accuracy: 0.7296 - val_loss: 0.4863 - val_accuracy: 0.8874\n",
      "\n",
      "Epoch 00047: val_loss did not improve from 0.46316\n",
      "Epoch 48/1000\n",
      "21/21 [==============================] - 0s 12ms/step - loss: 0.7514 - accuracy: 0.7396 - val_loss: 0.4945 - val_accuracy: 0.8874\n",
      "\n",
      "Epoch 00048: val_loss did not improve from 0.46316\n",
      "Epoch 49/1000\n",
      "21/21 [==============================] - 0s 13ms/step - loss: 0.7238 - accuracy: 0.7389 - val_loss: 0.4837 - val_accuracy: 0.8989\n",
      "\n",
      "Epoch 00049: val_loss did not improve from 0.46316\n",
      "Epoch 50/1000\n",
      "21/21 [==============================] - 0s 13ms/step - loss: 0.6926 - accuracy: 0.7512 - val_loss: 0.4918 - val_accuracy: 0.8989\n",
      "\n",
      "Epoch 00050: val_loss did not improve from 0.46316\n",
      "Epoch 51/1000\n",
      "21/21 [==============================] - 0s 13ms/step - loss: 0.6626 - accuracy: 0.7711 - val_loss: 0.4986 - val_accuracy: 0.8667\n",
      "\n",
      "Epoch 00051: val_loss did not improve from 0.46316\n",
      "Epoch 00051: early stopping\n"
     ]
    },
    {
     "data": {
      "text/plain": [
       "<tensorflow.python.keras.callbacks.History at 0x2c0bf1a30>"
      ]
     },
     "execution_count": 99,
     "metadata": {},
     "output_type": "execute_result"
    }
   ],
   "source": [
    "model.fit(\n",
    "    X_train,\n",
    "    y_train,\n",
    "    epochs=1000,\n",
    "    batch_size=64,\n",
    "    validation_data=(X_test, y_test),\n",
    "    callbacks=[cp_callback, es_callback],\n",
    "    verbose=1\n",
    ")"
   ]
  },
  {
   "cell_type": "code",
   "execution_count": 100,
   "metadata": {},
   "outputs": [
    {
     "name": "stdout",
     "output_type": "stream",
     "text": [
      "1/7 [===>..........................] - ETA: 2s - loss: 0.6344 - accuracy: 0.8438"
     ]
    },
    {
     "name": "stderr",
     "output_type": "stream",
     "text": [
      "2022-07-21 22:15:49.408661: I tensorflow/core/grappler/optimizers/custom_graph_optimizer_registry.cc:112] Plugin optimizer for device_type GPU is enabled.\n"
     ]
    },
    {
     "name": "stdout",
     "output_type": "stream",
     "text": [
      "7/7 [==============================] - 0s 24ms/step - loss: 0.4632 - accuracy: 0.8759\n"
     ]
    }
   ],
   "source": [
    "model = tf.keras.models.load_model(model_save_path)\n",
    "val_loss, val_acc = model.evaluate(X_test, y_test, batch_size=64)"
   ]
  },
  {
   "cell_type": "code",
   "execution_count": 101,
   "metadata": {},
   "outputs": [],
   "source": [
    "model = tf.keras.models.load_model(model_save_path)"
   ]
  },
  {
   "cell_type": "code",
   "execution_count": 102,
   "metadata": {},
   "outputs": [
    {
     "name": "stdout",
     "output_type": "stream",
     "text": [
      "[1.7345497e-02 1.3743242e-02 4.4651553e-23 5.2018384e-10 7.1182299e-01\n",
      " 1.2042823e-04 3.6952141e-19 6.2641492e-03 3.6429308e-06 1.8779714e-13\n",
      " 3.3931844e-03 3.0623146e-04 2.4681213e-01 7.0420647e-05 1.1795955e-04\n",
      " 7.1777009e-08 6.8334700e-12 3.2371730e-24]\n",
      "4\n"
     ]
    },
    {
     "name": "stderr",
     "output_type": "stream",
     "text": [
      "2022-07-21 22:17:13.643668: I tensorflow/core/grappler/optimizers/custom_graph_optimizer_registry.cc:112] Plugin optimizer for device_type GPU is enabled.\n"
     ]
    }
   ],
   "source": [
    "predict_result = model.predict(np.array([X_test[0]]))\n",
    "print(np.squeeze(predict_result))\n",
    "print(np.argmax(np.squeeze(predict_result)))"
   ]
  },
  {
   "cell_type": "code",
   "execution_count": 103,
   "metadata": {},
   "outputs": [
    {
     "data": {
      "image/png": "[encoded data removed]",
      "text/plain": [
       "<Figure size 504x432 with 2 Axes>"
      ]
     },
     "metadata": {
      "needs_background": "light"
     },
     "output_type": "display_data"
    },
    {
     "name": "stdout",
     "output_type": "stream",
     "text": [
      "Classification Report\n",
      "              precision    recall  f1-score   support\n",
      "\n",
      "         0.0       0.95      1.00      0.97        19\n",
      "         1.0       0.91      0.95      0.93        22\n",
      "         2.0       0.74      0.96      0.84        27\n",
      "         3.0       0.93      1.00      0.97        28\n",
      "         4.0       1.00      0.79      0.88        29\n",
      "         5.0       0.81      0.76      0.78        33\n",
      "         6.0       0.75      0.60      0.67        25\n",
      "         7.0       0.93      0.67      0.78        21\n",
      "         8.0       0.67      0.96      0.79        27\n",
      "         9.0       0.96      0.90      0.93        30\n",
      "        10.0       0.88      0.96      0.92        23\n",
      "        11.0       0.86      0.86      0.86        14\n",
      "        12.0       0.92      0.96      0.94        24\n",
      "        13.0       1.00      0.90      0.95        21\n",
      "        14.0       0.87      0.83      0.85        24\n",
      "        15.0       1.00      1.00      1.00        22\n",
      "        16.0       0.93      0.70      0.80        20\n",
      "        17.0       0.89      0.96      0.93        26\n",
      "\n",
      "    accuracy                           0.88       435\n",
      "   macro avg       0.89      0.88      0.88       435\n",
      "weighted avg       0.89      0.88      0.87       435\n",
      "\n"
     ]
    }
   ],
   "source": [
    "import pandas as pd\n",
    "import seaborn as sns\n",
    "import matplotlib.pyplot as plt\n",
    "from sklearn.metrics import confusion_matrix, classification_report\n",
    "\n",
    "def print_confusion_matrix(y_true, y_pred, report=True):\n",
    "    labels = sorted(list(set(y_true)))\n",
    "    cmx_data = confusion_matrix(y_true, y_pred, labels=labels)\n",
    "    \n",
    "    df_cmx = pd.DataFrame(cmx_data, index=labels, columns=labels)\n",
    " \n",
    "    fig, ax = plt.subplots(figsize=(7, 6))\n",
    "    sns.heatmap(df_cmx, annot=True, fmt='g' ,square=False)\n",
    "    ax.set_ylim(len(set(y_true)), 0)\n",
    "    plt.show()\n",
    "    \n",
    "    if report:\n",
    "        print('Classification Report')\n",
    "        print(classification_report(y_test, y_pred))\n",
    "\n",
    "Y_pred = model.predict(X_test)\n",
    "y_pred = np.argmax(Y_pred, axis=1)\n",
    "\n",
    "print_confusion_matrix(y_test, y_pred)"
   ]
  },
  {
   "cell_type": "code",
   "execution_count": 104,
   "metadata": {},
   "outputs": [
    {
     "name": "stdout",
     "output_type": "stream",
     "text": [
      "INFO:tensorflow:Assets written to: /var/folders/3w/bsb667zn42gdhbqq3z8ptmgw0000gn/T/tmpwm36g0mr/assets\n"
     ]
    },
    {
     "name": "stderr",
     "output_type": "stream",
     "text": [
      "INFO:tensorflow:Assets written to: /var/folders/3w/bsb667zn42gdhbqq3z8ptmgw0000gn/T/tmpwm36g0mr/assets\n",
      "2022-07-21 22:17:21.829196: I tensorflow/core/grappler/devices.cc:78] Number of eligible GPUs (core count >= 8, compute capability >= 0.0): 0 (Note: TensorFlow was not compiled with CUDA or ROCm support)\n",
      "2022-07-21 22:17:21.829276: I tensorflow/core/grappler/clusters/single_machine.cc:357] Starting new session\n",
      "2022-07-21 22:17:21.829434: I tensorflow/core/common_runtime/pluggable_device/pluggable_device_factory.cc:305] Could not identify NUMA node of platform GPU ID 0, defaulting to 0. Your kernel may not have been built with NUMA support.\n",
      "2022-07-21 22:17:21.829453: I tensorflow/core/common_runtime/pluggable_device/pluggable_device_factory.cc:271] Created TensorFlow device (/job:localhost/replica:0/task:0/device:GPU:0 with 0 MB memory) -> physical PluggableDevice (device: 0, name: METAL, pci bus id: <undefined>)\n",
      "2022-07-21 22:17:21.830597: I tensorflow/core/grappler/optimizers/meta_optimizer.cc:1144] Optimization results for grappler item: graph_to_optimize\n",
      "  function_optimizer: function_optimizer did nothing. time = 0.002ms.\n",
      "  function_optimizer: function_optimizer did nothing. time = 0.001ms.\n",
      "\n",
      "2022-07-21 22:17:21.919254: W tensorflow/compiler/mlir/lite/python/tf_tfl_flatbuffer_helpers.cc:345] Ignored output_format.\n",
      "2022-07-21 22:17:21.919271: W tensorflow/compiler/mlir/lite/python/tf_tfl_flatbuffer_helpers.cc:348] Ignored drop_control_dependency.\n",
      "2022-07-21 22:17:21.931969: I tensorflow/lite/tools/optimize/quantize_weights.cc:225] Skipping quantization of tensor sequential/dense_6/MatMul because it has fewer than 1024 elements (512).\n",
      "2022-07-21 22:17:21.931984: I tensorflow/lite/tools/optimize/quantize_weights.cc:225] Skipping quantization of tensor sequential/dense_7/MatMul because it has fewer than 1024 elements (288).\n"
     ]
    },
    {
     "data": {
      "text/plain": [
       "8400"
      ]
     },
     "execution_count": 104,
     "metadata": {},
     "output_type": "execute_result"
    }
   ],
   "source": [
    "# Save as a model dedicated to inference\n",
    "model.save(model_save_path, include_optimizer=False)\n",
    "\n",
    "# Transform model (quantization)\n",
    "\n",
    "converter = tf.lite.TFLiteConverter.from_keras_model(model)\n",
    "converter.optimizations = [tf.lite.Optimize.DEFAULT]\n",
    "tflite_quantized_model = converter.convert()\n",
    "\n",
    "open(tflite_save_path, 'wb').write(tflite_quantized_model)"
   ]
  },
  {
   "cell_type": "markdown",
   "metadata": {},
   "source": [
    "Inference test"
   ]
  },
  {
   "cell_type": "code",
   "execution_count": 105,
   "metadata": {},
   "outputs": [],
   "source": [
    "interpreter = tf.lite.Interpreter(model_path=tflite_save_path)\n",
    "interpreter.allocate_tensors()\n",
    "\n",
    "# Get I / O tensor\n",
    "input_details = interpreter.get_input_details()\n",
    "output_details = interpreter.get_output_details()\n",
    "\n",
    "interpreter.set_tensor(input_details[0]['index'], np.array([X_test[0]]))"
   ]
  },
  {
   "cell_type": "code",
   "execution_count": 107,
   "metadata": {},
   "outputs": [
    {
     "name": "stdout",
     "output_type": "stream",
     "text": [
      "CPU times: user 118 µs, sys: 35 µs, total: 153 µs\n",
      "Wall time: 153 µs\n"
     ]
    }
   ],
   "source": [
    "%%time\n",
    "# Inference implementation\n",
    "interpreter.invoke()\n",
    "tflite_results = interpreter.get_tensor(output_details[0]['index'])"
   ]
  },
  {
   "cell_type": "code",
   "execution_count": 108,
   "metadata": {},
   "outputs": [
    {
     "name": "stdout",
     "output_type": "stream",
     "text": [
      "[1.72824468e-02 1.50461541e-02 6.24794056e-23 5.53343038e-10\n",
      " 7.22680867e-01 1.04543506e-04 4.17657036e-19 6.60850946e-03\n",
      " 3.27187490e-06 2.31811450e-13 2.99399788e-03 2.78773630e-04\n",
      " 2.34790012e-01 8.82243985e-05 1.23085701e-04 7.77095721e-08\n",
      " 7.89233782e-12 6.45249251e-24]\n",
      "4\n"
     ]
    }
   ],
   "source": [
    "print(np.squeeze(tflite_results))\n",
    "print(np.argmax(np.squeeze(tflite_results)))"
   ]
  }
 ],
 "metadata": {
  "kernelspec": {
   "display_name": "Python 3.9.12 ('tensorflow')",
   "language": "python",
   "name": "python3"
  },
  "language_info": {
   "codemirror_mode": {
    "name": "ipython",
    "version": 3
   },
   "file_extension": ".py",
   "mimetype": "text/x-python",
   "name": "python",
   "nbconvert_exporter": "python",
   "pygments_lexer": "ipython3",
   "version": "3.9.12"
  },
  "orig_nbformat": 4,
  "vscode": {
   "interpreter": {
    "hash": "4bd624a0593993fe43ac4046b27b898fb2ef75c21c08f81e89e64ea0f51df676"
   }
  }
 },
 "nbformat": 4,
 "nbformat_minor": 2
}
